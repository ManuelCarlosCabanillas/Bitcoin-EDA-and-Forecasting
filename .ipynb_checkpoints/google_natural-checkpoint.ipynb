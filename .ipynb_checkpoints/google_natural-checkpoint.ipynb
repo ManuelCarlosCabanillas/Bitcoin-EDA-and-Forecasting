{
 "cells": [
  {
   "cell_type": "code",
   "execution_count": 1,
   "id": "f1fed48b",
   "metadata": {},
   "outputs": [],
   "source": [
    "import pandas as pd"
   ]
  },
  {
   "cell_type": "code",
   "execution_count": 15,
   "id": "14c4876e",
   "metadata": {},
   "outputs": [],
   "source": [
    "teams_df = pd.read_csv('esp_tweets/teams.csv', index_col=0, encoding='latin-1')\n",
    "world_df = pd.read_csv('esp_tweets/worldcup.csv', index_col=0, encoding='latin-1')"
   ]
  },
  {
   "cell_type": "code",
   "execution_count": 17,
   "id": "240208b7",
   "metadata": {
    "scrolled": true
   },
   "outputs": [
    {
     "data": {
      "text/html": [
       "<div>\n",
       "<style scoped>\n",
       "    .dataframe tbody tr th:only-of-type {\n",
       "        vertical-align: middle;\n",
       "    }\n",
       "\n",
       "    .dataframe tbody tr th {\n",
       "        vertical-align: top;\n",
       "    }\n",
       "\n",
       "    .dataframe thead th {\n",
       "        text-align: right;\n",
       "    }\n",
       "</style>\n",
       "<table border=\"1\" class=\"dataframe\">\n",
       "  <thead>\n",
       "    <tr style=\"text-align: right;\">\n",
       "      <th></th>\n",
       "      <th>tweet_id</th>\n",
       "      <th>tweet_text</th>\n",
       "      <th>language</th>\n",
       "      <th>sentiment</th>\n",
       "      <th>sentiment_score</th>\n",
       "    </tr>\n",
       "    <tr>\n",
       "      <th>tweet_date_created</th>\n",
       "      <th></th>\n",
       "      <th></th>\n",
       "      <th></th>\n",
       "      <th></th>\n",
       "      <th></th>\n",
       "    </tr>\n",
       "  </thead>\n",
       "  <tbody>\n",
       "    <tr>\n",
       "      <th>2018-06-17T09:47:48</th>\n",
       "      <td>1008285070573035521</td>\n",
       "      <td>@JoseAMeadeK @miseleccionmx A pero si estás en...</td>\n",
       "      <td>es</td>\n",
       "      <td>NEUTRAL</td>\n",
       "      <td>{\"Neutral\":0.597390711307525634765625,\"Negativ...</td>\n",
       "    </tr>\n",
       "    <tr>\n",
       "      <th>2018-06-28T06:00:16.360000</th>\n",
       "      <td>1012214075651215360</td>\n",
       "      <td>#MarioPereyraDT\\n\"Tenemos que jugarle a Franci...</td>\n",
       "      <td>es</td>\n",
       "      <td>NEUTRAL</td>\n",
       "      <td>{\"Neutral\":0.878756999969482421875,\"Negative\":...</td>\n",
       "    </tr>\n",
       "    <tr>\n",
       "      <th>2018-06-07T22:07:43</th>\n",
       "      <td>1004847397074333696</td>\n",
       "      <td>@miseleccionmx No me pidas eso mi selección, s...</td>\n",
       "      <td>es</td>\n",
       "      <td>NEGATIVE</td>\n",
       "      <td>{\"Neutral\":0.3155680596828460693359375,\"Negati...</td>\n",
       "    </tr>\n",
       "    <tr>\n",
       "      <th>2018-05-31T21:02:10</th>\n",
       "      <td>1002294186782199810</td>\n",
       "      <td>Si llega a ser la despedida, no será la mejor....</td>\n",
       "      <td>es</td>\n",
       "      <td>POSITIVE</td>\n",
       "      <td>{\"Neutral\":0.24451164901256561279296875,\"Negat...</td>\n",
       "    </tr>\n",
       "    <tr>\n",
       "      <th>2018-06-26T11:02:06</th>\n",
       "      <td>1011565260183097344</td>\n",
       "      <td>No se les olvide que nuestro trabajo es constr...</td>\n",
       "      <td>es</td>\n",
       "      <td>NEUTRAL</td>\n",
       "      <td>{\"Neutral\":0.4243867397308349609375,\"Negative\"...</td>\n",
       "    </tr>\n",
       "    <tr>\n",
       "      <th>...</th>\n",
       "      <td>...</td>\n",
       "      <td>...</td>\n",
       "      <td>...</td>\n",
       "      <td>...</td>\n",
       "      <td>...</td>\n",
       "    </tr>\n",
       "    <tr>\n",
       "      <th>2018-06-17T14:12:56</th>\n",
       "      <td>1008351795389689857</td>\n",
       "      <td>Se llegó el dia @miseleccionmx  pongan el nomb...</td>\n",
       "      <td>es</td>\n",
       "      <td>NEUTRAL</td>\n",
       "      <td>{\"Neutral\":0.3947345316410064697265625,\"Negati...</td>\n",
       "    </tr>\n",
       "    <tr>\n",
       "      <th>2018-06-17T14:12:56.857000</th>\n",
       "      <td>1008351795389689857</td>\n",
       "      <td>Se llegó el dia @miseleccionmx  pongan el nomb...</td>\n",
       "      <td>es</td>\n",
       "      <td>NEUTRAL</td>\n",
       "      <td>{\"Neutral\":0.3947345316410064697265625,\"Negati...</td>\n",
       "    </tr>\n",
       "    <tr>\n",
       "      <th>2018-05-14T01:54:14</th>\n",
       "      <td>995844705849143296</td>\n",
       "      <td>@miseleccionmx @ClubAmerica Oribe Peralta no m...</td>\n",
       "      <td>es</td>\n",
       "      <td>NEGATIVE</td>\n",
       "      <td>{\"Neutral\":0.286459624767303466796875,\"Negativ...</td>\n",
       "    </tr>\n",
       "    <tr>\n",
       "      <th>2018-06-23T15:22:55</th>\n",
       "      <td>1010543732742074368</td>\n",
       "      <td>mi hermano cree q por hacerme sonidos raros ca...</td>\n",
       "      <td>es</td>\n",
       "      <td>NEGATIVE</td>\n",
       "      <td>{\"Neutral\":0.16647066175937652587890625,\"Negat...</td>\n",
       "    </tr>\n",
       "    <tr>\n",
       "      <th>2018-06-15T03:17:48</th>\n",
       "      <td>1007462149810159617</td>\n",
       "      <td>Comienza el Sueño Celeste!!!\\nEs Hoy Uruguay!!...</td>\n",
       "      <td>es</td>\n",
       "      <td>NEUTRAL</td>\n",
       "      <td>{\"Neutral\":0.83000791072845458984375,\"Negative...</td>\n",
       "    </tr>\n",
       "  </tbody>\n",
       "</table>\n",
       "<p>1072461 rows × 5 columns</p>\n",
       "</div>"
      ],
      "text/plain": [
       "                                       tweet_id  \\\n",
       "tweet_date_created                                \n",
       "2018-06-17T09:47:48         1008285070573035521   \n",
       "2018-06-28T06:00:16.360000  1012214075651215360   \n",
       "2018-06-07T22:07:43         1004847397074333696   \n",
       "2018-05-31T21:02:10         1002294186782199810   \n",
       "2018-06-26T11:02:06         1011565260183097344   \n",
       "...                                         ...   \n",
       "2018-06-17T14:12:56         1008351795389689857   \n",
       "2018-06-17T14:12:56.857000  1008351795389689857   \n",
       "2018-05-14T01:54:14          995844705849143296   \n",
       "2018-06-23T15:22:55         1010543732742074368   \n",
       "2018-06-15T03:17:48         1007462149810159617   \n",
       "\n",
       "                                                                   tweet_text  \\\n",
       "tweet_date_created                                                              \n",
       "2018-06-17T09:47:48         @JoseAMeadeK @miseleccionmx A pero si estás en...   \n",
       "2018-06-28T06:00:16.360000  #MarioPereyraDT\\n\"Tenemos que jugarle a Franci...   \n",
       "2018-06-07T22:07:43         @miseleccionmx No me pidas eso mi selección, s...   \n",
       "2018-05-31T21:02:10         Si llega a ser la despedida, no será la mejor....   \n",
       "2018-06-26T11:02:06         No se les olvide que nuestro trabajo es constr...   \n",
       "...                                                                       ...   \n",
       "2018-06-17T14:12:56         Se llegó el dia @miseleccionmx  pongan el nomb...   \n",
       "2018-06-17T14:12:56.857000  Se llegó el dia @miseleccionmx  pongan el nomb...   \n",
       "2018-05-14T01:54:14         @miseleccionmx @ClubAmerica Oribe Peralta no m...   \n",
       "2018-06-23T15:22:55         mi hermano cree q por hacerme sonidos raros ca...   \n",
       "2018-06-15T03:17:48         Comienza el Sueño Celeste!!!\\nEs Hoy Uruguay!!...   \n",
       "\n",
       "                           language sentiment  \\\n",
       "tweet_date_created                              \n",
       "2018-06-17T09:47:48              es   NEUTRAL   \n",
       "2018-06-28T06:00:16.360000       es   NEUTRAL   \n",
       "2018-06-07T22:07:43              es  NEGATIVE   \n",
       "2018-05-31T21:02:10              es  POSITIVE   \n",
       "2018-06-26T11:02:06              es   NEUTRAL   \n",
       "...                             ...       ...   \n",
       "2018-06-17T14:12:56              es   NEUTRAL   \n",
       "2018-06-17T14:12:56.857000       es   NEUTRAL   \n",
       "2018-05-14T01:54:14              es  NEGATIVE   \n",
       "2018-06-23T15:22:55              es  NEGATIVE   \n",
       "2018-06-15T03:17:48              es   NEUTRAL   \n",
       "\n",
       "                                                              sentiment_score  \n",
       "tweet_date_created                                                             \n",
       "2018-06-17T09:47:48         {\"Neutral\":0.597390711307525634765625,\"Negativ...  \n",
       "2018-06-28T06:00:16.360000  {\"Neutral\":0.878756999969482421875,\"Negative\":...  \n",
       "2018-06-07T22:07:43         {\"Neutral\":0.3155680596828460693359375,\"Negati...  \n",
       "2018-05-31T21:02:10         {\"Neutral\":0.24451164901256561279296875,\"Negat...  \n",
       "2018-06-26T11:02:06         {\"Neutral\":0.4243867397308349609375,\"Negative\"...  \n",
       "...                                                                       ...  \n",
       "2018-06-17T14:12:56         {\"Neutral\":0.3947345316410064697265625,\"Negati...  \n",
       "2018-06-17T14:12:56.857000  {\"Neutral\":0.3947345316410064697265625,\"Negati...  \n",
       "2018-05-14T01:54:14         {\"Neutral\":0.286459624767303466796875,\"Negativ...  \n",
       "2018-06-23T15:22:55         {\"Neutral\":0.16647066175937652587890625,\"Negat...  \n",
       "2018-06-15T03:17:48         {\"Neutral\":0.83000791072845458984375,\"Negative...  \n",
       "\n",
       "[1072461 rows x 5 columns]"
      ]
     },
     "execution_count": 17,
     "metadata": {},
     "output_type": "execute_result"
    }
   ],
   "source": [
    "world_df"
   ]
  },
  {
   "cell_type": "code",
   "execution_count": 6,
   "id": "e39a5851",
   "metadata": {
    "scrolled": true
   },
   "outputs": [],
   "source": [
    "import os\n",
    "import io\n",
    "\n",
    "from google.cloud import language_v1"
   ]
  },
  {
   "cell_type": "code",
   "execution_count": 10,
   "id": "00cb9c5f",
   "metadata": {},
   "outputs": [],
   "source": [
    "os.environ[\"PROJECT_ID\"] = \"studious-legend-345810\""
   ]
  },
  {
   "cell_type": "code",
   "execution_count": 19,
   "id": "6170e7e3",
   "metadata": {},
   "outputs": [],
   "source": [
    "os.environ[\"GOOGLE_APPLICATION_CREDENTIALS\"] = os.path.abspath(\"/Users/manue/.jupyter/key.json\")\n"
   ]
  },
  {
   "cell_type": "code",
   "execution_count": 20,
   "id": "cea9bf60",
   "metadata": {},
   "outputs": [],
   "source": [
    "language_client = language_v1.LanguageServiceClient()"
   ]
  },
  {
   "cell_type": "code",
   "execution_count": 21,
   "id": "eb2db2bf",
   "metadata": {},
   "outputs": [
    {
     "data": {
      "text/plain": []
     },
     "execution_count": 21,
     "metadata": {},
     "output_type": "execute_result"
    }
   ],
   "source": [
    "# input text\n",
    "text = \"Hola me llamo manolo\"\n",
    "document = {'content': text, 'type_': language_v1.Document.Type.PLAIN_TEXT, 'language': 'en'}\n",
    "response  = language_client.analyze_sentiment(request= {'document': document})\n",
    "# Document Sentiment\n",
    "response.document_sentiment"
   ]
  },
  {
   "cell_type": "code",
   "execution_count": 24,
   "id": "03c25ec4",
   "metadata": {},
   "outputs": [],
   "source": [
    "def sample_analyze_sentiment(text_content):\n",
    "    \"\"\"\n",
    "    Analyzing Sentiment in a String\n",
    "\n",
    "    Args:\n",
    "      text_content The text content to analyze\n",
    "    \"\"\"\n",
    "\n",
    "    client = language_v1.LanguageServiceClient()\n",
    "\n",
    "    # text_content = 'I am so happy and joyful.'\n",
    "\n",
    "    # Available types: PLAIN_TEXT, HTML\n",
    "    type_ = language_v1.Document.Type.PLAIN_TEXT\n",
    "\n",
    "    # Optional. If not specified, the language is automatically detected.\n",
    "    # For list of supported languages:\n",
    "    # https://cloud.google.com/natural-language/docs/languages\n",
    "    language = \"es\"\n",
    "    document = {\"content\": text_content, \"type_\": type_, \"language\": language}\n",
    "\n",
    "    # Available values: NONE, UTF8, UTF16, UTF32\n",
    "    encoding_type = language_v1.EncodingType.UTF8\n",
    "\n",
    "    response = client.analyze_sentiment(request = {'document': document, 'encoding_type': encoding_type})\n",
    "    # Get overall sentiment of the input document\n",
    "    print(u\"Document sentiment score: {}\".format(response.document_sentiment.score))\n",
    "    print(\n",
    "        u\"Document sentiment magnitude: {}\".format(\n",
    "            response.document_sentiment.magnitude\n",
    "        )\n",
    "    )\n",
    "    # Get sentiment for all sentences in the document\n",
    "    for sentence in response.sentences:\n",
    "        print(u\"Sentence text: {}\".format(sentence.text.content))\n",
    "        print(u\"Sentence sentiment score: {}\".format(sentence.sentiment.score))\n",
    "        print(u\"Sentence sentiment magnitude: {}\".format(sentence.sentiment.magnitude))\n",
    "\n",
    "    # Get the language of the text, which will be the same as\n",
    "    # the language specified in the request or, if not specified,\n",
    "    # the automatically-detected language.\n",
    "    print(u\"Language of the text: {}\".format(response.language))"
   ]
  },
  {
   "cell_type": "code",
   "execution_count": 25,
   "id": "4dedb779",
   "metadata": {},
   "outputs": [
    {
     "name": "stdout",
     "output_type": "stream",
     "text": [
      "Document sentiment score: 0.8999999761581421\n",
      "Document sentiment magnitude: 0.8999999761581421\n",
      "Sentence text: me llamo manolo y soy el mejor del mundo\n",
      "Sentence sentiment score: 0.8999999761581421\n",
      "Sentence sentiment magnitude: 0.8999999761581421\n",
      "Language of the text: es\n"
     ]
    }
   ],
   "source": [
    "sample_analyze_sentiment(\"me llamo manolo y soy el mejor del mundo\")"
   ]
  },
  {
   "cell_type": "code",
   "execution_count": null,
   "id": "007d3333",
   "metadata": {},
   "outputs": [],
   "source": []
  }
 ],
 "metadata": {
  "kernelspec": {
   "display_name": "Python 3 (ipykernel)",
   "language": "python",
   "name": "python3"
  },
  "language_info": {
   "codemirror_mode": {
    "name": "ipython",
    "version": 3
   },
   "file_extension": ".py",
   "mimetype": "text/x-python",
   "name": "python",
   "nbconvert_exporter": "python",
   "pygments_lexer": "ipython3",
   "version": "3.9.7"
  }
 },
 "nbformat": 4,
 "nbformat_minor": 5
}
